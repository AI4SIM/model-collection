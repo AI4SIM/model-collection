{
 "cells": [
  {
   "cell_type": "code",
   "execution_count": 2,
   "id": "f26814e1-faef-4ac8-b880-3635e7711e3e",
   "metadata": {},
   "outputs": [
    {
     "ename": "AttributeError",
     "evalue": "module 'randomname' has no attribute '__version__'",
     "output_type": "error",
     "traceback": [
      "\u001b[0;31m---------------------------------------------------------------------------\u001b[0m",
      "\u001b[0;31mAttributeError\u001b[0m                            Traceback (most recent call last)",
      "\u001b[0;32m/tmp/ipykernel_3548438/1062017647.py\u001b[0m in \u001b[0;36m<module>\u001b[0;34m\u001b[0m\n\u001b[1;32m      1\u001b[0m \u001b[0;32mimport\u001b[0m \u001b[0mrandomname\u001b[0m\u001b[0;34m\u001b[0m\u001b[0;34m\u001b[0m\u001b[0m\n\u001b[0;32m----> 2\u001b[0;31m \u001b[0mrandomname\u001b[0m\u001b[0;34m.\u001b[0m\u001b[0m__version__\u001b[0m\u001b[0;34m\u001b[0m\u001b[0;34m\u001b[0m\u001b[0m\n\u001b[0m",
      "\u001b[0;31mAttributeError\u001b[0m: module 'randomname' has no attribute '__version__'"
     ]
    }
   ],
   "source": [
    "import randomname\n",
    "randomname.__version__"
   ]
  },
  {
   "cell_type": "code",
   "execution_count": 6,
   "id": "ae4dfc9a-df80-4aaa-9a13-549acbb63faf",
   "metadata": {},
   "outputs": [],
   "source": [
    "import h5py\n",
    "import json\n",
    "import numpy as np\n",
    "import os\n",
    "import pytorch_lightning as pl\n",
    "from pytorch_lightning.utilities.cli import DATAMODULE_REGISTRY\n",
    "import torch\n",
    "import torch_optimizer as optim\n",
    "import yaml"
   ]
  },
  {
   "cell_type": "code",
   "execution_count": 12,
   "id": "34894215-e5d3-4db1-96d7-eee559688b3d",
   "metadata": {},
   "outputs": [
    {
     "data": {
      "text/plain": [
       "'5.4.1'"
      ]
     },
     "execution_count": 12,
     "metadata": {},
     "output_type": "execute_result"
    }
   ],
   "source": [
    "yaml.__version__"
   ]
  },
  {
   "cell_type": "code",
   "execution_count": null,
   "id": "c2d5bead-3bd6-4ddb-9cff-371f192ed14b",
   "metadata": {},
   "outputs": [],
   "source": [
    "import config\n",
    "import h5py\n",
    "import numpy as np\n",
    "import os\n",
    "import pytorch_lightning as pl\n",
    "from pytorch_lightning.utilities.cli import MODEL_REGISTRY\n",
    "import torch\n",
    "import torch.nn as nn\n",
    "import torch_optimizer as optim\n",
    "import torchmetrics.functional as F"
   ]
  },
  {
   "cell_type": "code",
   "execution_count": 13,
   "id": "847f31b1-8fdf-48e6-9ee7-bec477363575",
   "metadata": {},
   "outputs": [
    {
     "data": {
      "text/plain": [
       "'0.5.1'"
      ]
     },
     "execution_count": 13,
     "metadata": {},
     "output_type": "execute_result"
    }
   ],
   "source": [
    "import torchmetrics as tm\n",
    "tm.__version__"
   ]
  },
  {
   "cell_type": "code",
   "execution_count": 14,
   "id": "977bbc76-cf5e-4bdc-a69f-c6de87004fcb",
   "metadata": {},
   "outputs": [
    {
     "data": {
      "text/plain": [
       "'2.6.3'"
      ]
     },
     "execution_count": 14,
     "metadata": {},
     "output_type": "execute_result"
    }
   ],
   "source": [
    "import networkx as nx\n",
    "nx.__version__"
   ]
  },
  {
   "cell_type": "code",
   "execution_count": 15,
   "id": "d2c794f0-8ec6-4076-849b-7c8270d86911",
   "metadata": {},
   "outputs": [
    {
     "data": {
      "text/plain": [
       "'3.4.3'"
      ]
     },
     "execution_count": 15,
     "metadata": {},
     "output_type": "execute_result"
    }
   ],
   "source": [
    "import matplotlib\n",
    "matplotlib.__version__"
   ]
  },
  {
   "cell_type": "code",
   "execution_count": 16,
   "id": "1fbbf716-cb2b-41a8-a35c-761387a2d161",
   "metadata": {},
   "outputs": [
    {
     "data": {
      "text/plain": [
       "'5.3.1'"
      ]
     },
     "execution_count": 16,
     "metadata": {},
     "output_type": "execute_result"
    }
   ],
   "source": [
    "import plotly\n",
    "plotly.__version__"
   ]
  },
  {
   "cell_type": "code",
   "execution_count": null,
   "id": "c3bf9eab-9de7-4e34-add1-2947e1ec7549",
   "metadata": {},
   "outputs": [],
   "source": []
  }
 ],
 "metadata": {
  "kernelspec": {
   "display_name": "Python 3 (ipykernel)",
   "language": "python",
   "name": "python3"
  },
  "language_info": {
   "codemirror_mode": {
    "name": "ipython",
    "version": 3
   },
   "file_extension": ".py",
   "mimetype": "text/x-python",
   "name": "python",
   "nbconvert_exporter": "python",
   "pygments_lexer": "ipython3",
   "version": "3.8.6"
  }
 },
 "nbformat": 4,
 "nbformat_minor": 5
}
