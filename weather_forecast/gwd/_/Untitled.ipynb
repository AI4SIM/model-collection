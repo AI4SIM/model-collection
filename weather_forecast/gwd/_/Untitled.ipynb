{
 "cells": [
  {
   "cell_type": "code",
   "execution_count": 1,
   "id": "3931522b-abb6-4476-a196-066235ec4f7f",
   "metadata": {},
   "outputs": [
    {
     "data": {
      "text/plain": [
       "'1.5.7'"
      ]
     },
     "execution_count": 1,
     "metadata": {},
     "output_type": "execute_result"
    }
   ],
   "source": [
    "import pytorch_lightning as pl\n",
    "\n",
    "pl.__version__"
   ]
  },
  {
   "cell_type": "code",
   "execution_count": 2,
   "id": "8f1da914-081e-484f-8699-60744c08e5f4",
   "metadata": {},
   "outputs": [
    {
     "name": "stdout",
     "output_type": "stream",
     "text": [
      "tensor([[ 0,  1,  2],\n",
      "        [ 3,  4,  5],\n",
      "        [ 6,  7,  8],\n",
      "        [ 9, 10, 11]])\n",
      "tensor([[ 0,  1,  2,  0,  1,  2],\n",
      "        [ 3,  4,  5,  3,  4,  5],\n",
      "        [ 6,  7,  8,  6,  7,  8],\n",
      "        [ 9, 10, 11,  9, 10, 11]])\n"
     ]
    },
    {
     "data": {
      "text/plain": [
       "tensor([[1, 2],\n",
       "        [3, 4],\n",
       "        [1, 2],\n",
       "        [3, 4]])"
      ]
     },
     "execution_count": 2,
     "metadata": {},
     "output_type": "execute_result"
    }
   ],
   "source": [
    "import torch\n",
    "\n",
    "x = torch.arange(0, 12).reshape((-1, 3))\n",
    "print(x)\n",
    "print(x.tile((1, 2)))\n",
    "y = torch.tensor([[1, 2], [3, 4]])\n",
    "torch.tile(y, (2, 1))"
   ]
  },
  {
   "cell_type": "code",
   "execution_count": 21,
   "id": "d6ce9c36-79e3-4c74-9b54-58204b4507f2",
   "metadata": {},
   "outputs": [
    {
     "name": "stdout",
     "output_type": "stream",
     "text": [
      "<KeysViewHDF5 ['x', 'y']>\n",
      "(191, 36, 65440)\n",
      "[-1.6986801e+01 -2.9156265e+00 -3.1320343e+00 -2.7499237e+00\n",
      "  8.0800705e+00  3.4188385e+01  7.1976273e+01  8.8823280e+01\n",
      "  1.0028650e+02  1.0535427e+02  1.0833929e+02  1.0589876e+02\n",
      "  1.0085615e+02  9.0348206e+01  8.4133598e+01  8.2608009e+01\n",
      "  8.0453987e+01  7.5591057e+01  6.2250603e+01  5.2632618e+01\n",
      "  4.5269985e+01  3.8062721e+01  3.2207039e+01  2.4713226e+01\n",
      "  1.8252552e+01  1.4278503e+01  1.1508541e+01  8.6058388e+00\n",
      "  5.9360199e+00  5.3372307e+00  4.0759277e+00  2.8003273e+00\n",
      "  1.9899139e+00  1.4549828e+00  1.1292419e+00  8.0082703e-01\n",
      "  1.2159748e+00  3.0609093e+00  5.1550217e+00  5.5192490e+00\n",
      "  3.7863655e+00  2.1063080e+00  2.0110779e+00  3.5111885e+00\n",
      "  5.7553101e+00  7.1366615e+00  6.9363861e+00  6.3675060e+00\n",
      "  6.7905712e+00  7.6677017e+00  8.7694016e+00  1.0370247e+01\n",
      "  1.3159538e+01  1.5086502e+01  1.6129131e+01  1.6455692e+01\n",
      "  1.6858810e+01  1.7366577e+01  1.7568523e+01  1.7762718e+01\n",
      "  1.7735500e+01  1.7693157e+01  1.7211395e+01 -1.0831318e+01\n",
      " -1.1767979e+01 -8.0469742e+00 -1.9390015e+01 -4.1436714e+01\n",
      " -5.3587234e+01 -6.3074966e+01 -5.9414703e+01 -5.7162140e+01\n",
      " -5.7039917e+01 -5.9909348e+01 -5.9527390e+01 -5.7306015e+01\n",
      " -4.9326797e+01 -4.0746223e+01 -3.3562881e+01 -3.0096451e+01\n",
      " -2.6108513e+01 -2.1165726e+01 -1.6203796e+01 -9.0313187e+00\n",
      " -7.7102966e+00 -3.9233932e+00 -2.2615280e+00 -6.8367004e-01\n",
      " -3.8988876e-01  1.4420738e+00  3.1693878e+00  5.0973549e+00\n",
      "  5.8448105e+00  5.5183563e+00  3.2270203e+00  1.9565620e+00\n",
      "  2.8863564e+00  4.8413506e+00  5.5651512e+00  4.6018753e+00\n",
      "  3.2291412e+00  3.2623405e+00  4.2057152e+00  4.1983757e+00\n",
      "  3.3711357e+00  2.6150551e+00  2.4642220e+00  3.2322350e+00\n",
      "  4.7093430e+00  5.1056480e+00  3.4846497e+00  1.5867653e+00\n",
      "  1.4344635e+00  1.7398834e+00  1.7621384e+00  2.2588501e+00\n",
      "  3.0176239e+00  3.1034851e+00  2.2199402e+00  1.3722267e+00\n",
      "  6.4537430e-01  2.2925949e-01  3.2336426e-01  7.0109558e-01\n",
      "  1.2301865e+00  1.6435699e+00  1.9501154e+02  2.1558429e+02\n",
      "  2.3283028e+02  2.4983731e+02  2.5685223e+02  2.5864404e+02\n",
      "  2.5256355e+02  2.5100902e+02  2.4625739e+02  2.4153464e+02\n",
      "  2.4250415e+02  2.4279021e+02  2.4202190e+02  2.4145305e+02\n",
      "  2.3690520e+02  2.3156706e+02  2.2843184e+02  2.2417569e+02\n",
      "  2.2043945e+02  2.1968007e+02  2.1474080e+02  2.1141869e+02\n",
      "  2.0865950e+02  2.0655312e+02  2.0468066e+02  2.0359653e+02\n",
      "  2.0391083e+02  2.0462587e+02  2.0489439e+02  2.0443617e+02\n",
      "  2.0382797e+02  2.0387994e+02  2.0458557e+02  2.0551143e+02\n",
      "  2.0616052e+02  2.0647072e+02  2.0661559e+02  2.0736607e+02\n",
      "  2.0819958e+02  2.0889496e+02  2.0948322e+02  2.0993706e+02\n",
      "  2.1034529e+02  2.1097470e+02  2.1150348e+02  2.1163400e+02\n",
      "  2.1149365e+02  2.1147346e+02  2.1171935e+02  2.1172980e+02\n",
      "  2.1149516e+02  2.1113380e+02  2.1108997e+02  2.1143063e+02\n",
      "  2.1215752e+02  2.1351971e+02  2.1543767e+02  2.1783603e+02\n",
      "  2.2030165e+02  2.2282349e+02  2.2536034e+02  2.2794666e+02\n",
      "  2.3064011e+02  1.0207220e+05  8.3799606e+01]\n",
      "(126, 36, 65440)\n",
      "(2355840, 191)\n"
     ]
    }
   ],
   "source": [
    "import h5py\n",
    "import numpy as np\n",
    "\n",
    "path = '/home/research/research/modeling/weather_forecast/gwd/data/raw/2015-01-01.h5'\n",
    "with h5py.File(path, \"r\") as file:\n",
    "    print(file.keys())\n",
    "    x = file['/x'][:]\n",
    "    print(x.shape)\n",
    "    print(x[:,0,1])\n",
    "    y = file['/y'][:]\n",
    "    print(y.shape)\n",
    "x = np.reshape(x, (191, -1)).T\n",
    "y = np.reshape(y, (126, -1)).T\n",
    "print(x.shape)"
   ]
  },
  {
   "cell_type": "code",
   "execution_count": 20,
   "id": "dacca926-a5ad-438b-984e-586066b39357",
   "metadata": {},
   "outputs": [
    {
     "name": "stdout",
     "output_type": "stream",
     "text": [
      "[-1.6986801e+01 -2.9156265e+00 -3.1320343e+00 -2.7499237e+00\n",
      "  8.0800705e+00  3.4188385e+01  7.1976273e+01  8.8823280e+01\n",
      "  1.0028650e+02  1.0535427e+02  1.0833929e+02  1.0589876e+02\n",
      "  1.0085615e+02  9.0348206e+01  8.4133598e+01  8.2608009e+01\n",
      "  8.0453987e+01  7.5591057e+01  6.2250603e+01  5.2632618e+01\n",
      "  4.5269985e+01  3.8062721e+01  3.2207039e+01  2.4713226e+01\n",
      "  1.8252552e+01  1.4278503e+01  1.1508541e+01  8.6058388e+00\n",
      "  5.9360199e+00  5.3372307e+00  4.0759277e+00  2.8003273e+00\n",
      "  1.9899139e+00  1.4549828e+00  1.1292419e+00  8.0082703e-01\n",
      "  1.2159748e+00  3.0609093e+00  5.1550217e+00  5.5192490e+00\n",
      "  3.7863655e+00  2.1063080e+00  2.0110779e+00  3.5111885e+00\n",
      "  5.7553101e+00  7.1366615e+00  6.9363861e+00  6.3675060e+00\n",
      "  6.7905712e+00  7.6677017e+00  8.7694016e+00  1.0370247e+01\n",
      "  1.3159538e+01  1.5086502e+01  1.6129131e+01  1.6455692e+01\n",
      "  1.6858810e+01  1.7366577e+01  1.7568523e+01  1.7762718e+01\n",
      "  1.7735500e+01  1.7693157e+01  1.7211395e+01 -1.0831318e+01\n",
      " -1.1767979e+01 -8.0469742e+00 -1.9390015e+01 -4.1436714e+01\n",
      " -5.3587234e+01 -6.3074966e+01 -5.9414703e+01 -5.7162140e+01\n",
      " -5.7039917e+01 -5.9909348e+01 -5.9527390e+01 -5.7306015e+01\n",
      " -4.9326797e+01 -4.0746223e+01 -3.3562881e+01 -3.0096451e+01\n",
      " -2.6108513e+01 -2.1165726e+01 -1.6203796e+01 -9.0313187e+00\n",
      " -7.7102966e+00 -3.9233932e+00 -2.2615280e+00 -6.8367004e-01\n",
      " -3.8988876e-01  1.4420738e+00  3.1693878e+00  5.0973549e+00\n",
      "  5.8448105e+00  5.5183563e+00  3.2270203e+00  1.9565620e+00\n",
      "  2.8863564e+00  4.8413506e+00  5.5651512e+00  4.6018753e+00\n",
      "  3.2291412e+00  3.2623405e+00  4.2057152e+00  4.1983757e+00\n",
      "  3.3711357e+00  2.6150551e+00  2.4642220e+00  3.2322350e+00\n",
      "  4.7093430e+00  5.1056480e+00  3.4846497e+00  1.5867653e+00\n",
      "  1.4344635e+00  1.7398834e+00  1.7621384e+00  2.2588501e+00\n",
      "  3.0176239e+00  3.1034851e+00  2.2199402e+00  1.3722267e+00\n",
      "  6.4537430e-01  2.2925949e-01  3.2336426e-01  7.0109558e-01\n",
      "  1.2301865e+00  1.6435699e+00  1.9501154e+02  2.1558429e+02\n",
      "  2.3283028e+02  2.4983731e+02  2.5685223e+02  2.5864404e+02\n",
      "  2.5256355e+02  2.5100902e+02  2.4625739e+02  2.4153464e+02\n",
      "  2.4250415e+02  2.4279021e+02  2.4202190e+02  2.4145305e+02\n",
      "  2.3690520e+02  2.3156706e+02  2.2843184e+02  2.2417569e+02\n",
      "  2.2043945e+02  2.1968007e+02  2.1474080e+02  2.1141869e+02\n",
      "  2.0865950e+02  2.0655312e+02  2.0468066e+02  2.0359653e+02\n",
      "  2.0391083e+02  2.0462587e+02  2.0489439e+02  2.0443617e+02\n",
      "  2.0382797e+02  2.0387994e+02  2.0458557e+02  2.0551143e+02\n",
      "  2.0616052e+02  2.0647072e+02  2.0661559e+02  2.0736607e+02\n",
      "  2.0819958e+02  2.0889496e+02  2.0948322e+02  2.0993706e+02\n",
      "  2.1034529e+02  2.1097470e+02  2.1150348e+02  2.1163400e+02\n",
      "  2.1149365e+02  2.1147346e+02  2.1171935e+02  2.1172980e+02\n",
      "  2.1149516e+02  2.1113380e+02  2.1108997e+02  2.1143063e+02\n",
      "  2.1215752e+02  2.1351971e+02  2.1543767e+02  2.1783603e+02\n",
      "  2.2030165e+02  2.2282349e+02  2.2536034e+02  2.2794666e+02\n",
      "  2.3064011e+02  1.0207220e+05  8.3799606e+01]\n"
     ]
    }
   ],
   "source": [
    "print(x[1])"
   ]
  },
  {
   "cell_type": "code",
   "execution_count": 4,
   "id": "4a162b79-0b35-4b0c-8cf9-0b7db7b16a06",
   "metadata": {},
   "outputs": [
    {
     "data": {
      "text/plain": [
       "(2355840, 191)"
      ]
     },
     "execution_count": 4,
     "metadata": {},
     "output_type": "execute_result"
    }
   ],
   "source": [
    "x.shape"
   ]
  },
  {
   "cell_type": "code",
   "execution_count": 106,
   "id": "7e81cbc3-75d0-45d8-bb1c-02d29030fa0c",
   "metadata": {},
   "outputs": [],
   "source": [
    "import torch.nn as nn\n",
    "import torch\n",
    "\n",
    "class Reshape(nn.Module):\n",
    "    def __init__(self):\n",
    "        super().__init__()\n",
    "\n",
    "    def forward(self, x):\n",
    "        t0 = torch.reshape(x[:, :3 * 63], [-1, 3, 63])\n",
    "        t1 = torch.tile(x[:, 3 * 63:].unsqueeze(2), (1, 1, 63))\n",
    "\n",
    "        return torch.cat((\n",
    "            t0, t1,\n",
    "            # torch.transpose(t0, -2, -1),\n",
    "            # torch.transpose(t1, -2, -1)\n",
    "        ), dim=1)"
   ]
  },
  {
   "cell_type": "code",
   "execution_count": 150,
   "id": "040ec0e3-bcc0-43a2-a153-5dc2c3a9427c",
   "metadata": {},
   "outputs": [],
   "source": [
    "# model = nn.Sequential(\n",
    "#     Reshape(),\n",
    "#     nn.Conv1d(5, 16, 3, padding=1),\n",
    "#     nn.ReLU(inplace=True),\n",
    "#     nn.MaxPool1d(2),\n",
    "#     # nn.Conv1d(16, 32, 3),\n",
    "#     # nn.ReLU(inplace=True),\n",
    "#     # nn.MaxPool1d(2),\n",
    "#     nn.Flatten(),\n",
    "#     nn.Linear(16, 126),\n",
    "#     nn.Linear(126, 126)\n",
    "# )\n",
    "\n",
    "class Model(nn.Module):\n",
    "    def __init__(self):\n",
    "        super().__init__()\n",
    "        self.model = nn.ModuleList([\n",
    "            Reshape(),\n",
    "            nn.Conv1d(5, 16, 3, padding=1),\n",
    "            nn.ReLU(inplace=True),\n",
    "            nn.MaxPool1d(2),\n",
    "            nn.Conv1d(16, 32, 3),\n",
    "            nn.ReLU(inplace=True),\n",
    "            nn.MaxPool1d(2),\n",
    "            nn.Flatten(),\n",
    "            nn.Linear((32 - 3) // 2 * 32, 126),\n",
    "            nn.Linear(126, 126)\n",
    "        ])\n",
    "        \n",
    "    def forward(self, x):\n",
    "        for module in self.model:\n",
    "            x = module(x)\n",
    "            # print(x.shape)\n",
    "        return x\n",
    "    \n",
    "model = Model()"
   ]
  },
  {
   "cell_type": "code",
   "execution_count": 151,
   "id": "c1e5bc44-25d4-4800-8163-2747253d4dcb",
   "metadata": {},
   "outputs": [
    {
     "data": {
      "text/plain": [
       "14"
      ]
     },
     "execution_count": 151,
     "metadata": {},
     "output_type": "execute_result"
    }
   ],
   "source": [
    "29 // 2"
   ]
  },
  {
   "cell_type": "code",
   "execution_count": 152,
   "id": "8922d34a-1e15-4355-9e66-b46279c5c60d",
   "metadata": {},
   "outputs": [],
   "source": [
    "x0 = torch.tensor(x[0:1, :])"
   ]
  },
  {
   "cell_type": "code",
   "execution_count": 153,
   "id": "dc6d1c45-2f72-429a-9722-ba1c804e7fab",
   "metadata": {},
   "outputs": [
    {
     "name": "stdout",
     "output_type": "stream",
     "text": [
      "torch.Size([1, 5, 63])\n",
      "torch.Size([1, 16, 63])\n",
      "torch.Size([1, 16, 63])\n",
      "torch.Size([1, 16, 31])\n",
      "torch.Size([1, 32, 29])\n",
      "torch.Size([1, 32, 29])\n",
      "torch.Size([1, 32, 14])\n",
      "torch.Size([1, 448])\n",
      "torch.Size([1, 126])\n",
      "torch.Size([1, 126])\n"
     ]
    },
    {
     "data": {
      "text/plain": [
       "tensor([[-6.1728e+01, -1.0866e+03, -4.9883e+03,  1.4622e+03,  5.6056e+03,\n",
       "          3.1360e+03,  7.0969e+01, -5.1658e+03, -5.9838e+03,  3.6009e+03,\n",
       "          3.8060e+03, -2.5862e+03,  4.5961e+03, -5.3451e+02,  8.7825e+02,\n",
       "          2.8244e+03,  5.3087e+00, -2.7571e+03, -1.2671e+03,  4.9432e+03,\n",
       "          1.7405e+03, -2.7600e+03,  1.6884e+02,  4.1402e+03,  4.0978e+03,\n",
       "         -1.4758e+03, -6.3077e+03,  2.8228e+03, -2.6621e+03,  3.0024e+02,\n",
       "          1.6726e+03, -1.3803e+01,  1.8552e+03,  2.9832e+03,  3.2422e+03,\n",
       "          3.9024e+02,  6.8351e+01,  1.1052e+01,  8.3694e+02,  1.2468e+03,\n",
       "         -4.8685e+03, -2.0873e+03,  4.5530e+03, -1.8417e+03,  7.0575e+02,\n",
       "         -2.1839e+03, -1.5145e+03, -5.1195e+02,  1.5220e+03, -3.1714e+03,\n",
       "         -2.0969e+02,  2.5381e+03,  8.1095e+02, -1.9591e+03,  1.6327e+03,\n",
       "          3.4591e+03,  3.8360e+03, -3.5886e+03, -3.4115e+02,  1.2770e+03,\n",
       "         -2.8518e+03, -4.7503e+03,  4.1841e+03, -1.4247e+03, -1.7041e+03,\n",
       "          5.3519e+03, -8.3556e+02,  5.8768e+02,  2.4069e+03, -8.7199e+03,\n",
       "         -4.3881e+03,  3.9107e+03, -3.0994e+03, -8.6750e+02,  1.8714e+03,\n",
       "         -1.8289e+03,  1.6092e+03, -1.7552e+03, -3.2794e+03,  3.3452e+03,\n",
       "         -3.5042e+02,  7.8135e+02,  5.0586e+03,  7.0196e+03, -4.2922e+02,\n",
       "         -4.6707e+03,  1.4342e+03, -2.9281e+03,  5.3861e+03,  5.8331e+02,\n",
       "         -1.5182e+02,  2.3939e+02, -1.3317e+03,  1.8619e+03, -3.3554e+03,\n",
       "         -1.5539e+03,  3.8508e+03, -4.7701e+03, -2.5382e+03, -1.4486e+03,\n",
       "         -5.1952e+03,  9.3917e+02,  5.0004e+03, -7.3096e+03, -4.3020e+02,\n",
       "          9.9897e+02, -1.4966e+03, -6.9614e+03, -3.6270e+02,  6.3306e+03,\n",
       "         -1.0044e+04, -7.4056e+02, -4.9121e+03,  1.9901e+03,  7.9597e+03,\n",
       "         -2.6801e+03,  4.0022e+03, -6.1134e+02, -6.2672e+03,  7.8064e+02,\n",
       "         -1.8272e+03, -2.1599e+02, -1.4737e+02,  5.7017e+03,  7.6633e+02,\n",
       "          1.2708e+03]], grad_fn=<AddmmBackward>)"
      ]
     },
     "execution_count": 153,
     "metadata": {},
     "output_type": "execute_result"
    }
   ],
   "source": [
    "model(x0)"
   ]
  },
  {
   "cell_type": "code",
   "execution_count": null,
   "id": "27213472-e49d-48d2-aabb-8973f99e8e47",
   "metadata": {},
   "outputs": [],
   "source": [
    "def build_model(input_shape,\n",
    "                output_shape,\n",
    "                features_root,\n",
    "                filter_size,\n",
    "                pool_size,\n",
    "                n_levels,\n",
    "                neurons,\n",
    "                mean,\n",
    "                var,\n",
    "                l_rate):\n",
    "    inputs = Input(shape=(input_shape,))\n",
    "    \n",
    "    norm = Normalization(mean=mean, variance=var**2)\n",
    "    scaled = norm(inputs)\n",
    "\n",
    "    cnn = ReshapeAndBroadcast()(scaled)\n",
    "    for i in range(n_levels):\n",
    "        n_features = (2**i) * features_root\n",
    "        cnn = Conv1D(filters=n_features, kernel_size=filter_size, activation=\"relu\")(cnn)\n",
    "        cnn = MaxPool1D(pool_size=pool_size)(cnn)\n",
    "    flat = Flatten()(cnn)\n",
    "    dense = Dense(neurons, activation=\"relu\")(flat)\n",
    "    outputs = Dense(output_shape, activation=\"linear\")(dense)\n",
    "    \n",
    "    model = Model(inputs=inputs, outputs=outputs)\n",
    "    model.compile(optimizer=Adam(learning_rate=l_rate), loss=\"mse\", \n",
    "                  metrics=[RootMeanSquaredError(name=\"rmse\"), r2_score])\n",
    "    model.summary()\n",
    "    \n",
    "    return model\n",
    "\n",
    "config = {\n",
    "    'input_shape' : 191,\n",
    "    'output_shape' : 126,\n",
    "    'features_root' : 8,\n",
    "    'filter_size' : 3,\n",
    "    'pool_size' : 2,\n",
    "    'n_levels' : 2,\n",
    "    'neurons' : 126,\n",
    "    'mean' : x_mean,\n",
    "    'var' : x_std,\n",
    "    'l_rate' : 1.e-4,\n",
    "}"
   ]
  },
  {
   "cell_type": "code",
   "execution_count": 21,
   "id": "cfc37487-61b2-402e-89db-423988c0ccad",
   "metadata": {},
   "outputs": [],
   "source": [
    "in_path = '/home/research/research/modeling/weather_forecast/gwd/data/raw/2015-01-01.h5'\n",
    "with h5py.File(in_path, \"r\") as file:\n",
    "    x = file['/x'][:]\n",
    "    y = file['/y'][:]\n",
    "    \n",
    "x = np.reshape(x, (191, -1)).T\n",
    "y = np.reshape(y, (126, -1)).T\n",
    "out_path = '/home/research/research/modeling/weather_forecast/gwd/data/processed/2015-01-01.h5'\n",
    "with h5py.File(out_path, 'w') as file:\n",
    "    file['/x'] = x\n",
    "    file['/y'] = y"
   ]
  },
  {
   "cell_type": "code",
   "execution_count": 27,
   "id": "44a15b0f-9c07-4590-a804-14f5df4c46dc",
   "metadata": {},
   "outputs": [
    {
     "data": {
      "text/plain": [
       "('/home/research/research/modeling/weather_forecast/gwd/data/processed',\n",
       " '2015-01-01.h5')"
      ]
     },
     "execution_count": 27,
     "metadata": {},
     "output_type": "execute_result"
    }
   ],
   "source": [
    "import os\n",
    "\n",
    "in_path = '/home/research/research/modeling/weather_forecast/gwd/data/processed/2015-01-01.h5'\n",
    "os.path.split(in_path)"
   ]
  },
  {
   "cell_type": "code",
   "execution_count": 24,
   "id": "410c679c-e2b5-4891-ba45-191f751fa3fa",
   "metadata": {},
   "outputs": [
    {
     "name": "stdout",
     "output_type": "stream",
     "text": [
      "[ 1.22631989e+01  2.88343735e+01  4.96179657e+01  7.10000763e+01\n",
      "  7.73300705e+01  6.71883850e+01  6.49762726e+01  7.68232803e+01\n",
      "  8.92864990e+01  9.38542709e+01  9.23392868e+01  8.46487579e+01\n",
      "  6.66061478e+01  5.20982056e+01  4.48835983e+01  4.01080093e+01\n",
      "  3.27039871e+01  2.63410568e+01  2.22506027e+01  2.16326180e+01\n",
      "  2.25199852e+01  2.00627213e+01  1.68320389e+01  1.58382263e+01\n",
      "  1.62525520e+01  1.77785034e+01  1.86335411e+01  1.78558388e+01\n",
      "  1.64360199e+01  1.45872307e+01  1.44509277e+01  1.69253273e+01\n",
      "  1.82399139e+01  1.74549828e+01  1.63792419e+01  1.53008270e+01\n",
      "  1.40909748e+01  1.33109093e+01  1.64050217e+01  2.27692490e+01\n",
      "  2.55363655e+01  2.47313080e+01  2.40110779e+01  2.45111885e+01\n",
      "  2.55053101e+01  2.75116615e+01  3.43113861e+01  3.84925079e+01\n",
      "  4.10405731e+01  4.52927017e+01  4.90194016e+01  5.08702469e+01\n",
      "  5.09095383e+01  4.95865021e+01  4.78791313e+01  4.52056923e+01\n",
      "  4.18588104e+01  3.76165771e+01  3.51935234e+01  3.52627182e+01\n",
      "  3.54855003e+01  3.30681572e+01  3.04613953e+01 -1.27063179e+01\n",
      " -2.07679787e+01 -2.80469742e+01 -1.71400146e+01  1.48132858e+01\n",
      "  1.39127655e+01 -3.57496643e+00 -4.41470337e+00 -1.16213989e+00\n",
      " -5.53991699e+00 -3.44093475e+01 -4.15273895e+01 -2.40560150e+01\n",
      " -2.35767975e+01 -3.17462234e+01 -3.13128815e+01 -2.75964508e+01\n",
      " -2.28585129e+01 -1.94157257e+01 -1.77037964e+01 -1.57813187e+01\n",
      " -1.57102966e+01 -1.61733932e+01 -1.55115280e+01 -1.34336700e+01\n",
      " -1.11398888e+01 -9.55792618e+00 -9.20561218e+00 -9.27764511e+00\n",
      " -1.09051895e+01 -1.36066437e+01 -1.37729797e+01 -1.11684380e+01\n",
      " -8.61364365e+00 -7.28364944e+00 -6.93484879e+00 -6.14812469e+00\n",
      " -6.52085876e+00 -8.11265945e+00 -8.04428482e+00 -7.17662430e+00\n",
      " -7.25386429e+00 -8.50994492e+00 -1.02857780e+01 -1.16427650e+01\n",
      " -1.37906570e+01 -1.43943520e+01 -1.43903503e+01 -1.91632347e+01\n",
      " -2.29405365e+01 -2.56351166e+01 -2.67378616e+01 -2.54911499e+01\n",
      " -2.42323761e+01 -2.31465149e+01 -2.12800598e+01 -1.85027733e+01\n",
      " -1.53546257e+01 -1.05207405e+01 -6.05163574e+00 -2.92390442e+00\n",
      " -2.64481354e+00 -2.60643005e+00  1.73511536e+02  1.85521790e+02\n",
      "  2.03205276e+02  2.24649811e+02  2.45102249e+02  2.62769043e+02\n",
      "  2.68688538e+02  2.72634033e+02  2.82382385e+02  2.93159637e+02\n",
      "  3.00379150e+02  2.89040222e+02  2.56396912e+02  2.24453049e+02\n",
      "  2.10905197e+02  2.06317062e+02  2.02306839e+02  1.99300690e+02\n",
      "  1.98751953e+02  2.00180069e+02  2.01865799e+02  2.03106186e+02\n",
      "  2.04659500e+02  2.06240616e+02  2.07555664e+02  2.08721527e+02\n",
      "  2.09848328e+02  2.10750870e+02  2.11144394e+02  2.11436172e+02\n",
      "  2.12827972e+02  2.14067444e+02  2.14273071e+02  2.13761429e+02\n",
      "  2.13285522e+02  2.13595718e+02  2.14553085e+02  2.16241074e+02\n",
      "  2.18012085e+02  2.17707458e+02  2.15983215e+02  2.16124557e+02\n",
      "  2.16970291e+02  2.17474701e+02  2.17128479e+02  2.16259003e+02\n",
      "  2.14181152e+02  2.11098465e+02  2.11281845e+02  2.11979797e+02\n",
      "  2.12995163e+02  2.14946304e+02  2.17714966e+02  2.20618134e+02\n",
      "  2.23282516e+02  2.25894714e+02  2.28562668e+02  2.31336029e+02\n",
      "  2.34426651e+02  2.38260986e+02  2.42110336e+02  2.45696655e+02\n",
      "  2.49140106e+02  1.00024203e+05  9.52996063e+01] [-4.6530738e-05 -1.2223143e-04 -3.5611680e-05  1.7569400e-06\n",
      " -2.5937334e-07 -2.3291213e-06 -7.7632722e-06 -3.3706019e-06\n",
      " -1.1007069e-06  1.6952981e-07  2.7222850e-06  6.4077904e-07\n",
      "  9.1810944e-07  1.2707773e-05  1.4741439e-05  2.9329094e-06\n",
      "  2.6987254e-07 -4.7431968e-08  5.7480065e-10 -3.9741280e-08\n",
      "  7.6397555e-09  1.1321390e-08 -2.7415808e-08 -3.4451659e-09\n",
      " -7.2443072e-08  2.3188477e-08  1.7498678e-08  3.1068339e-09\n",
      " -1.4140824e-08  1.7877028e-08  2.0547304e-08 -3.6681740e-08\n",
      " -3.4648110e-08  4.2207830e-08  3.6838173e-08  1.8691935e-08\n",
      "  2.2311724e-08 -3.6381061e-07 -8.5704232e-07 -1.5874339e-06\n",
      " -8.2166298e-07 -1.8420742e-06 -9.6680742e-07 -2.2296463e-06\n",
      " -2.4586661e-06 -4.4265580e-06 -4.4980752e-06 -3.5902976e-06\n",
      "  1.5700607e-08 -7.3127012e-08  1.0574513e-07  8.1499820e-09\n",
      "  2.1139385e-08  3.1449417e-08  5.8904334e-08  1.0299209e-07\n",
      "  1.9596700e-07 -3.9993211e-08 -1.9888830e-08  5.3339136e-07\n",
      "  6.5303902e-07  6.9862290e-07  5.7393354e-06  6.3216314e-05\n",
      "  6.4291526e-05  5.1172683e-06 -1.5973346e-06 -9.3854032e-07\n",
      "  1.1321390e-05  2.4273875e-05  1.2190198e-05  4.2526808e-06\n",
      "  5.8977908e-05  3.4178156e-05  7.7018922e-07  6.9473754e-07\n",
      "  4.7240355e-05  2.5892175e-05  2.7678543e-06  2.6835187e-07\n",
      " -1.1882730e-07 -1.6218837e-07 -3.1213858e-08 -7.5080607e-08\n",
      " -2.0354491e-08 -8.1490725e-10  3.4415280e-09 -3.9581209e-08\n",
      " -3.3476681e-08 -1.6303602e-08 -3.2434400e-08 -6.6156645e-09\n",
      "  1.0415533e-08 -1.9810614e-08 -5.7167199e-08 -3.8773578e-08\n",
      " -8.6783984e-09 -1.6601916e-08 -9.6988515e-09  6.1118044e-10\n",
      "  6.6372377e-07  1.7754974e-06  2.7603764e-06  1.1809861e-06\n",
      "  1.6596350e-06  1.1269949e-06  2.0009556e-06  1.8005230e-06\n",
      "  1.5766218e-06 -1.8455648e-07 -1.6232962e-06  1.1332304e-09\n",
      " -9.0829417e-08 -1.9086656e-08 -1.4551915e-08 -6.8830559e-09\n",
      "  7.2195689e-09  2.8256181e-08  3.6558049e-08  7.5435310e-08\n",
      " -9.3838935e-08 -2.2579570e-07 -3.1467607e-07 -1.4035177e-06\n",
      " -1.1508091e-06 -6.0461643e-06]\n"
     ]
    }
   ],
   "source": [
    "in_path = '/home/research/research/modeling/weather_forecast/gwd/data/processed/2015-01-01.h5'\n",
    "with h5py.File(in_path, \"r\") as file:\n",
    "    x = file['/x'][4003]\n",
    "    y = file['/y'][4003]\n",
    "    \n",
    "print(x, y)"
   ]
  },
  {
   "cell_type": "code",
   "execution_count": 16,
   "id": "40d13c94-8fff-46aa-9d83-b5190c4914a7",
   "metadata": {},
   "outputs": [
    {
     "data": {
      "text/plain": [
       "331290.0"
      ]
     },
     "execution_count": 16,
     "metadata": {},
     "output_type": "execute_result"
    }
   ],
   "source": [
    "2355840 / 128 * 18"
   ]
  },
  {
   "cell_type": "code",
   "execution_count": 12,
   "id": "3905ef2a-71c2-4934-90cf-0ca4207b4b6c",
   "metadata": {},
   "outputs": [
    {
     "data": {
      "text/plain": [
       "5"
      ]
     },
     "execution_count": 12,
     "metadata": {},
     "output_type": "execute_result"
    }
   ],
   "source": [
    "51 // 10"
   ]
  },
  {
   "cell_type": "code",
   "execution_count": null,
   "id": "20987e96-6334-472c-8b31-724a79d884cf",
   "metadata": {},
   "outputs": [],
   "source": [
    "#!/usr/bin/python3\n",
    "# coding: utf-8\n",
    "\n",
    "import glob\n",
    "import os\n",
    "import dask.array as da\n",
    "import numpy as np\n",
    "import tensorflow as tf\n",
    "import xarray as xr\n",
    "\n",
    "from tensorflow.distribute import MirroredStrategy\n",
    "from tensorflow.keras import Input, Model\n",
    "from tensorflow.keras.callbacks import EarlyStopping, ModelCheckpoint, TensorBoard\n",
    "from tensorflow.keras.layers import MaxPool1D, Conv1D, Dense, Flatten, Layer\n",
    "from tensorflow.keras.layers.experimental.preprocessing import Normalization\n",
    "from tensorflow.keras.metrics import RootMeanSquaredError\n",
    "from tensorflow.keras.optimizers import Adam\n",
    "\n",
    "class DataLoader:\n",
    "        \n",
    "    def __init__(self, root_path, processed_path, raw_files=None, batch_size=32, mode=\"train\", shuffle=True, y_std_max=None):\n",
    "        self.root_path = root_path\n",
    "        self.processed_path = processed_path\n",
    "        self.raw_files = raw_files\n",
    "        self.batch_size = batch_size\n",
    "        self.mode = mode\n",
    "        self.shuffle = shuffle\n",
    "        self.y_std_max = y_std_max\n",
    "        self.raw_path = os.path.join(self.root_path, self.mode)\n",
    "        self.x_storage_dir = os.path.join(self.processed_path, \"batch_size_{}\".format(self.batch_size), self.mode, \"x_{}.npy\".format(self.mode))\n",
    "        self.y_storage_dir = os.path.join(self.processed_path, \"batch_size_{}\".format(self.batch_size), self.mode, \"y_{}.npy\".format(self.mode))\n",
    "        \n",
    "        if \"process\" in self.__class__.__dict__.keys():\n",
    "            if not os.path.exists(self.x_storage_dir):\n",
    "                os.makedirs(self.x_storage_dir)\n",
    "\n",
    "            if not os.path.exists(self.y_storage_dir):\n",
    "                os.makedirs(self.y_storage_dir)\n",
    "\n",
    "            self._process()\n",
    "        \n",
    "        self.list_processed_files()\n",
    "        \n",
    "    def process(self):\n",
    "        \"\"\"Load, stack and reshape all the files\"\"\"\n",
    "        \n",
    "        print(\"Loading the dataset...\")\n",
    "        list_files = [os.path.join(self.raw_path, f) for f in self.raw_files]\n",
    "        print(list_files)\n",
    "        ds = xr.open_mfdataset(list_files, chunks=-1, combine=\"nested\", concat_dim=\"concat_dim\", parallel=True)\n",
    "        x_ = da.moveaxis(ds.x.data, 1, -1).reshape(ds.x.shape[0]*ds.x.shape[2]*ds.x.shape[3], -1)\n",
    "        y_ = da.moveaxis(ds.y.data, 1, -1).reshape(ds.y.shape[0]*ds.y.shape[2]*ds.y.shape[3], -1)\n",
    "        \n",
    "        self.sample_size = x_.shape[0]\n",
    "        self.input_dim = x_.shape[1]\n",
    "        self.output_dim = y_.shape[1]\n",
    "\n",
    "        x_ = x_.rechunk((self.batch_size, self.input_dim))\n",
    "        y_ = y_.rechunk((self.batch_size, self.output_dim))\n",
    "        \n",
    "        self.x_mean = x_.mean(axis=0).compute()\n",
    "        self.x_std = x_.std(axis=0).compute()\n",
    "        self.y_std_max = y_.std(axis=0).max().compute()\n",
    "        with open(os.path.join(self.root_path, \"normalization_parameters.npy\"), 'wb') as f:\n",
    "            np.save(f, self.x_mean)\n",
    "            np.save(f, self.x_std)\n",
    "            np.save(f, self.y_std_max)\n",
    "\n",
    "        # Features\n",
    "        x_ = x_.rechunk((self.batch_size, self.input_dim))\n",
    "        print(\"Storing X array in npy files...\")\n",
    "        da.to_npy_stack(self.x_storage_dir, x_, axis=0)\n",
    "\n",
    "        # Targets\n",
    "        y_ = y_.rechunk((self.batch_size, self.output_dim))\n",
    "        print(\"Storing Y array in npy files...\")\n",
    "        da.to_npy_stack(self.y_storage_dir, y_, axis=0)\n",
    "        \n",
    "    def _process(self):\n",
    "        if (os.path.exists(self.x_storage_dir) and len(os.listdir(self.x_storage_dir)) != 0 and \n",
    "                os.path.exists(self.y_storage_dir) and len(os.listdir(self.y_storage_dir)) != 0):\n",
    "            print(\"Raw files already processed...\")\n",
    "            return\n",
    "        \n",
    "        print(\"Processing...\")\n",
    "        \n",
    "        self.process()\n",
    "        \n",
    "        print(\"Done!\")\n",
    "    \n",
    "    def list_processed_files(self):\n",
    "        self.processed_files = glob.glob(os.path.join(self.x_storage_dir, \"*.npy\"))\n",
    "    \n",
    "    def create_tf_dataset(self):\n",
    "        print(\"Creating TF dataset...\")\n",
    "        dataset = tf.data.Dataset.from_tensor_slices(self.processed_files)\n",
    "        dataset = (dataset\n",
    "                   .map(lambda item: tf.py_function(self.read_npy_files, [item], Tout=(tf.float32, tf.float32)), num_parallel_calls=tf.data.AUTOTUNE)\n",
    "                   .filter(lambda features, targets : tf.shape(features)[0] == self.batch_size)\n",
    "                   .prefetch(tf.data.AUTOTUNE))\n",
    "        print(\"Done !\")\n",
    "        return dataset\n",
    "        \n",
    "    def read_npy_files(self, xfilename):\n",
    "        xfilename = xfilename.numpy().decode()\n",
    "        yfilename = xfilename.replace('x_{}'.format(self.mode), 'y_{}'.format(self.mode))\n",
    "        x = np.load(xfilename)\n",
    "        y = np.load(yfilename)\n",
    "        \n",
    "        if self.y_std_max is not None:\n",
    "            y = y / self.y_std_max\n",
    "        \n",
    "        return (x.astype(np.float32), y.astype(np.float32))\n",
    "\n",
    "class ReshapeAndBroadcast(Layer):\n",
    "    \"\"\"\n",
    "    Define a custom layer that takes an array (Nx191), reshape it to (Nx63x5)\n",
    "    by broadcasting the two surface quantities (pressure and geopotential).\n",
    "\n",
    "    Methods\n",
    "    -------\n",
    "    call():\n",
    "        Performs the logic of applying the layer to the input tensors:\n",
    "            - reshape (batch_sizex63x3)\n",
    "            - broadcast (batch_sizex63x2)\n",
    "            - concatenate\n",
    "    \"\"\"\n",
    "\n",
    "    def call(self, inputs, **kwargs):\n",
    "        t0 = tf.reshape(inputs[:, :3 * 63], [-1, 3, 63])\n",
    "        t1 = tf.tile(tf.expand_dims(inputs[:, 3 * 63:], axis=-1), [1, 1, 63])\n",
    "\n",
    "        return tf.concat((\n",
    "            tf.transpose(t0, perm=[0, 2, 1]),\n",
    "            tf.transpose(t1, perm=[0, 2, 1])), 2)\n",
    "\n",
    "def r2_score(y_true, y_pred):\n",
    "    ss_res = tf.keras.backend.sum((y_true - y_pred) ** 2)\n",
    "    ss_tot = tf.keras.backend.sum((y_true - tf.keras.backend.mean(y_true)) ** 2)\n",
    "    return 1 - ss_res / (ss_tot + tf.keras.backend.epsilon())\n",
    "\n",
    "def build_model(input_shape,\n",
    "                output_shape,\n",
    "                features_root,\n",
    "                filter_size,\n",
    "                pool_size,\n",
    "                n_levels,\n",
    "                neurons,\n",
    "                mean,\n",
    "                var,\n",
    "                l_rate):\n",
    "    inputs = Input(shape=(input_shape,))\n",
    "    \n",
    "    norm = Normalization(mean=mean, variance=var**2)\n",
    "    scaled = norm(inputs)\n",
    "\n",
    "    cnn = ReshapeAndBroadcast()(scaled)\n",
    "    for i in range(n_levels):\n",
    "        n_features = (2**i) * features_root\n",
    "        cnn = Conv1D(filters=n_features, kernel_size=filter_size, activation=\"relu\")(cnn)\n",
    "        cnn = MaxPool1D(pool_size=pool_size)(cnn)\n",
    "    flat = Flatten()(cnn)\n",
    "    dense = Dense(neurons, activation=\"relu\")(flat)\n",
    "    outputs = Dense(output_shape, activation=\"linear\")(dense)\n",
    "    \n",
    "    model = Model(inputs=inputs, outputs=outputs)\n",
    "    model.compile(optimizer=Adam(learning_rate=l_rate), loss=\"mse\", \n",
    "                  metrics=[RootMeanSquaredError(name=\"rmse\"), r2_score])\n",
    "    model.summary()\n",
    "    \n",
    "    return model\n",
    "\n",
    "def main():\n",
    "    home_path = os.path.join(os.path.expanduser('~'))\n",
    "    data_path = os.path.join(home_path, \"data\", \"nogwd\", \"raw\")\n",
    "    save_path = os.path.join(home_path, \"data\", \"nogwd\", \"processed\", \"chunked_files\")\n",
    "    model_path = os.path.join(home_path, \"data\", \"models\")\n",
    "    \n",
    "    model_name = \"mlp\"\n",
    "    \n",
    "    BATCH_SIZE = 256\n",
    "    EPOCHS = 200\n",
    "    checkpoint_path = os.path.join(home_path, \"checkpoints\", \"{}.ckpt\".format(model_name))\n",
    "    \n",
    "    list_files_train = [\n",
    "        \"2015-01-01.h5\",\n",
    "        \"2015-01-31.h5\",\n",
    "        \"2015-03-02.h5\",\n",
    "        \"2015-04-01.h5\",\n",
    "        \"2015-05-01.h5\",\n",
    "        \"2015-05-31.h5\",\n",
    "        \"2015-06-30.h5\",\n",
    "        \"2015-07-30.h5\",\n",
    "        \"2015-08-29.h5\",\n",
    "        \"2015-09-28.h5\",\n",
    "        \"2015-10-28.h5\",\n",
    "        \"2015-11-27.h5\",]\n",
    "    \n",
    "    params = {\n",
    "        \"batch_size\" : BATCH_SIZE,\n",
    "        \"shuffle\" : True,\n",
    "    }\n",
    "    \n",
    "    # Create the training dataset\n",
    "    train = DataLoader(data_path, save_path, list_files_train, **params, mode=\"train\").create_tf_dataset()\n",
    "    \n",
    "    # Create the validation dataset\n",
    "    list_files_val = [\n",
    "        \"2016-02-25.h5\",\n",
    "        \"2016-06-24.h5\",\n",
    "        \"2016-12-21.h5\"\n",
    "        ]\n",
    "    val = DataLoader(data_path, save_path, list_files_val, **params, mode=\"val\").create_tf_dataset()\n",
    "    \n",
    "    with open(os.path.join(data_path, \"normalization_parameters.npy\"), \"rb\") as f:\n",
    "        x_mean = np.load(f)\n",
    "        x_std = np.load(f)\n",
    "\n",
    "    config = {\n",
    "        'input_shape' : 191,\n",
    "        'output_shape' : 126,\n",
    "        'features_root' : 8,\n",
    "        'filter_size' : 3,\n",
    "        'pool_size' : 2,\n",
    "        'n_levels' : 2,\n",
    "        'neurons' : 126,\n",
    "        'mean' : x_mean,\n",
    "        'var' : x_std,\n",
    "        'l_rate' : 1.e-4,\n",
    "    }\n",
    "    \n",
    "    strategy = MirroredStrategy()\n",
    "    with strategy.scope():\n",
    "        my_model = build_model(**config)\n",
    "    \n",
    "    # Keras callbacks\n",
    "    checkpoint = ModelCheckpoint(filepath=checkpoint_path, save_weights_only=True,\n",
    "                                 monitor='val_rmse', mode='min', save_best_only=True)\n",
    "    \n",
    "    earlystopping = EarlyStopping(monitor='val_rmse', patience=5)\n",
    "    \n",
    "    tensorboard = TensorBoard(log_dir=os.path.join(home_path, \"logs\", model_name),\n",
    "                              write_images=False,\n",
    "                              write_graph=True,\n",
    "                              histogram_freq=1,\n",
    "                              update_freq=\"batch\",\n",
    "                              profile_batch=2,\n",
    "    )\n",
    "    \n",
    "    history = my_model.fit(train,\n",
    "                           validation_data=val,\n",
    "                           batch_size=None,\n",
    "                           epochs=EPOCHS,\n",
    "                           verbose=1,\n",
    "                           callbacks=[\n",
    "                               earlystopping,\n",
    "                               # checkpoint,\n",
    "                               # tensorboard\n",
    "                               ],\n",
    "    )\n",
    "    \n",
    "    # Saving history (to plot loss curves)\n",
    "    np.save(file=os.path.join(home_path, \"history\", \"wf-nogwd-history-{}.npy\".format(model_name)), \n",
    "            arr=history.history)\n",
    "    \n",
    "    # Saving the model at last epoch (not especially the best model)\n",
    "    my_model.save(os.path.join(model_path, \"wf-nogwd-model-{}.h5\".format(model_name)))\n",
    "    \n",
    "    print(\"Training done !\")\n",
    "\n",
    "if __name__ == \"__main__\":\n",
    "    main()"
   ]
  },
  {
   "cell_type": "code",
   "execution_count": 2,
   "id": "39f3dd38-99a6-48f0-83a4-8e0f01b1b458",
   "metadata": {},
   "outputs": [],
   "source": [
    "import h5py\n",
    "import torch\n",
    "\n",
    "path = '/home/research/research/modeling/weather_forecast/gwd/data/stats.h5'\n",
    "\n",
    "with h5py.File(path, 'r') as file:\n",
    "    x_mean = torch.tensor(file['/x_mean'])\n",
    "    y_mean = torch.tensor(file['/y_mean'])\n",
    "    x_std = torch.tensor(file['/x_std'])\n",
    "    y_std = torch.tensor(file['/y_std'])"
   ]
  },
  {
   "cell_type": "code",
   "execution_count": 3,
   "id": "83f9acda-42f6-4009-a985-8e42a2c27a0e",
   "metadata": {},
   "outputs": [
    {
     "data": {
      "text/plain": [
       "tensor([ 1.6765e+00, -1.1890e+00, -2.8733e+00, -4.2150e+00, -4.7127e+00,\n",
       "        -5.3416e+00, -7.2468e+00, -1.0985e+01, -1.4382e+01, -1.5157e+01,\n",
       "        -1.3655e+01, -1.1488e+01, -9.1906e+00, -6.9320e+00, -4.7353e+00,\n",
       "        -2.7538e+00, -1.5186e+00, -1.3258e+00, -2.0570e+00, -3.4567e+00,\n",
       "        -5.3086e+00, -7.1967e+00, -8.5176e+00, -8.8866e+00, -8.3621e+00,\n",
       "        -7.2705e+00, -5.9027e+00, -4.4026e+00, -2.8475e+00, -1.3116e+00,\n",
       "         1.3604e-01,  1.4448e+00,  2.5981e+00,  3.6532e+00,  4.7253e+00,\n",
       "         5.9303e+00,  7.2647e+00,  8.6301e+00,  9.9276e+00,  1.1111e+01,\n",
       "         1.2175e+01,  1.3131e+01,  1.3970e+01,  1.4674e+01,  1.5221e+01,\n",
       "         1.5591e+01,  1.5782e+01,  1.5807e+01,  1.5691e+01,  1.5452e+01,\n",
       "         1.5104e+01,  1.4665e+01,  1.4143e+01,  1.3548e+01,  1.2891e+01,\n",
       "         1.2185e+01,  1.1438e+01,  1.0658e+01,  9.8597e+00,  9.0714e+00,\n",
       "         8.3104e+00,  7.5855e+00,  6.9153e+00,  2.8363e+00,  3.4845e+00,\n",
       "         2.6375e+00,  2.0744e+00,  1.4482e+00,  1.1090e+00,  7.3624e-01,\n",
       "         7.7862e-01,  8.5770e-01,  6.9601e-01,  3.8313e-01,  1.7318e-01,\n",
       "         1.2884e-01,  1.6079e-01,  1.3909e-01,  5.0955e-02,  3.5408e-02,\n",
       "         7.4500e-02,  1.0780e-01,  9.9815e-02,  6.7835e-02,  4.3799e-02,\n",
       "         4.8580e-02,  5.8300e-02,  6.3335e-02,  6.5719e-02,  6.5375e-02,\n",
       "         6.2918e-02,  6.1745e-02,  6.0159e-02,  5.4631e-02,  4.4520e-02,\n",
       "         3.2602e-02,  3.0435e-02,  4.6788e-02,  6.8872e-02,  1.0139e-01,\n",
       "         1.5578e-01,  2.2191e-01,  2.9378e-01,  3.6840e-01,  4.3586e-01,\n",
       "         4.9883e-01,  5.5769e-01,  6.0579e-01,  6.4090e-01,  6.6580e-01,\n",
       "         6.7767e-01,  6.6633e-01,  6.2880e-01,  5.6521e-01,  4.7667e-01,\n",
       "         3.7460e-01,  2.7287e-01,  1.8138e-01,  1.0749e-01,  5.5829e-02,\n",
       "         2.9794e-02,  2.4176e-02,  2.6287e-02,  2.9366e-02,  3.3643e-02,\n",
       "         3.8655e-02,  2.0529e+02,  2.1534e+02,  2.2452e+02,  2.3335e+02,\n",
       "         2.4277e+02,  2.5166e+02,  2.6170e+02,  2.6697e+02,  2.6717e+02,\n",
       "         2.6431e+02,  2.6038e+02,  2.5598e+02,  2.5110e+02,  2.4591e+02,\n",
       "         2.4076e+02,  2.3617e+02,  2.3237e+02,  2.2939e+02,  2.2705e+02,\n",
       "         2.2512e+02,  2.2337e+02,  2.2159e+02,  2.1974e+02,  2.1789e+02,\n",
       "         2.1613e+02,  2.1448e+02,  2.1292e+02,  2.1146e+02,  2.1004e+02,\n",
       "         2.0867e+02,  2.0724e+02,  2.0579e+02,  2.0437e+02,  2.0312e+02,\n",
       "         2.0221e+02,  2.0177e+02,  2.0187e+02,  2.0241e+02,  2.0329e+02,\n",
       "         2.0440e+02,  2.0565e+02,  2.0700e+02,  2.0842e+02,  2.0987e+02,\n",
       "         2.1136e+02,  2.1292e+02,  2.1456e+02,  2.1631e+02,  2.1818e+02,\n",
       "         2.2018e+02,  2.2231e+02,  2.2457e+02,  2.2698e+02,  2.2952e+02,\n",
       "         2.3219e+02,  2.3498e+02,  2.3786e+02,  2.4080e+02,  2.4377e+02,\n",
       "         2.4673e+02,  2.4967e+02,  2.5255e+02,  2.5533e+02,  9.8674e+04,\n",
       "         9.8263e+01])"
      ]
     },
     "execution_count": 3,
     "metadata": {},
     "output_type": "execute_result"
    }
   ],
   "source": [
    "x_mean"
   ]
  },
  {
   "cell_type": "code",
   "execution_count": null,
   "id": "5c4a0885-26e0-41af-9807-58295318ce48",
   "metadata": {},
   "outputs": [],
   "source": []
  },
  {
   "cell_type": "code",
   "execution_count": null,
   "id": "12ac09b9-fd52-4969-84d0-c7a4cd39e052",
   "metadata": {},
   "outputs": [],
   "source": []
  },
  {
   "cell_type": "code",
   "execution_count": null,
   "id": "b567a89a-2102-441e-9561-074be2e5d744",
   "metadata": {},
   "outputs": [],
   "source": []
  },
  {
   "cell_type": "code",
   "execution_count": 3,
   "id": "2826da6d-ccb1-4d8c-879e-7c527d784c85",
   "metadata": {},
   "outputs": [],
   "source": [
    "preds = torch.arange(0, 12).reshape((-1, 3))\n",
    "targets = torch.arange(1, 13).reshape((-1, 3))"
   ]
  },
  {
   "cell_type": "code",
   "execution_count": 4,
   "id": "4f0547a9-92d1-43e5-a960-ef057ae20be0",
   "metadata": {},
   "outputs": [
    {
     "data": {
      "text/plain": [
       "(tensor([[ 0,  1,  2],\n",
       "         [ 3,  4,  5],\n",
       "         [ 6,  7,  8],\n",
       "         [ 9, 10, 11]]),\n",
       " tensor([[ 1,  2,  3],\n",
       "         [ 4,  5,  6],\n",
       "         [ 7,  8,  9],\n",
       "         [10, 11, 12]]))"
      ]
     },
     "execution_count": 4,
     "metadata": {},
     "output_type": "execute_result"
    }
   ],
   "source": [
    "preds, targets"
   ]
  },
  {
   "cell_type": "code",
   "execution_count": 43,
   "id": "cf9ae557-5930-4ad9-b0de-dce7f9926a1c",
   "metadata": {},
   "outputs": [],
   "source": [
    "from torchmetrics import R2Score\n",
    "from sklearn.metrics import r2_score"
   ]
  },
  {
   "cell_type": "code",
   "execution_count": 44,
   "id": "edca0d37-d1a3-4b5b-b466-6ab6dadd1502",
   "metadata": {},
   "outputs": [],
   "source": [
    "r2score = R2Score()"
   ]
  },
  {
   "cell_type": "code",
   "execution_count": 45,
   "id": "838b486a-a272-406e-8016-539e560c75a0",
   "metadata": {},
   "outputs": [
    {
     "data": {
      "text/plain": [
       "tensor([0.9654, 0.9082])"
      ]
     },
     "execution_count": 45,
     "metadata": {},
     "output_type": "execute_result"
    }
   ],
   "source": [
    "target = torch.tensor([[0.5, 1], [-1, 1], [7, -6]])\n",
    "preds = torch.tensor([[0, 2], [-1, 2], [8, -5]])\n",
    "r2score = R2Score(num_outputs=2, multioutput='raw_values')\n",
    "r2score(preds, target)"
   ]
  },
  {
   "cell_type": "code",
   "execution_count": 48,
   "id": "6e21ba93-6901-4b20-92d0-ec3136915ce3",
   "metadata": {},
   "outputs": [
    {
     "data": {
      "text/plain": [
       "tensor(0.9368)"
      ]
     },
     "execution_count": 48,
     "metadata": {},
     "output_type": "execute_result"
    }
   ],
   "source": [
    "r2score = R2Score(num_outputs=2, multioutput='uniform_average')\n",
    "r2score(preds, target)"
   ]
  },
  {
   "cell_type": "code",
   "execution_count": 39,
   "id": "4d7e7edc-ffbf-464f-8fd2-c0f643cb7b26",
   "metadata": {},
   "outputs": [
    {
     "data": {
      "text/plain": [
       "torch.Size([3, 2])"
      ]
     },
     "execution_count": 39,
     "metadata": {},
     "output_type": "execute_result"
    }
   ],
   "source": [
    "target.shape"
   ]
  },
  {
   "cell_type": "code",
   "execution_count": 36,
   "id": "25036e95-e3ad-40b6-a343-7eb34a2c488c",
   "metadata": {},
   "outputs": [
    {
     "data": {
      "text/plain": [
       "tensor(0.6831)"
      ]
     },
     "execution_count": 36,
     "metadata": {},
     "output_type": "execute_result"
    }
   ],
   "source": [
    "r2score = R2Score(num_outputs=3, multioutput='uniform_average')\n",
    "r2score(preds, target)"
   ]
  },
  {
   "cell_type": "code",
   "execution_count": 14,
   "id": "448dc7d8-b11a-4fe0-8d47-2e14d04a91e9",
   "metadata": {},
   "outputs": [
    {
     "data": {
      "text/plain": [
       "torch.Size([3, 2])"
      ]
     },
     "execution_count": 14,
     "metadata": {},
     "output_type": "execute_result"
    }
   ],
   "source": [
    "target.shape"
   ]
  },
  {
   "cell_type": "code",
   "execution_count": null,
   "id": "ac61397c-bbd8-4d54-b7a9-2076556badae",
   "metadata": {},
   "outputs": [],
   "source": []
  },
  {
   "cell_type": "code",
   "execution_count": 51,
   "id": "280ffa8b-ff7e-4641-974d-ca2d153f5de0",
   "metadata": {},
   "outputs": [
    {
     "data": {
      "text/plain": [
       "tensor([100., 100.])"
      ]
     },
     "execution_count": 51,
     "metadata": {},
     "output_type": "execute_result"
    }
   ],
   "source": [
    "torch.sum(torch.ones((100,2)), dim=0)"
   ]
  },
  {
   "cell_type": "code",
   "execution_count": 52,
   "id": "a4bcfea2-69a9-4d85-9c71-901a3513b212",
   "metadata": {},
   "outputs": [
    {
     "data": {
      "text/plain": [
       "tensor([2., 2., 2., 2., 2., 2., 2., 2., 2., 2., 2., 2., 2., 2., 2., 2., 2., 2.,\n",
       "        2., 2., 2., 2., 2., 2., 2., 2., 2., 2., 2., 2., 2., 2., 2., 2., 2., 2.,\n",
       "        2., 2., 2., 2., 2., 2., 2., 2., 2., 2., 2., 2., 2., 2., 2., 2., 2., 2.,\n",
       "        2., 2., 2., 2., 2., 2., 2., 2., 2., 2., 2., 2., 2., 2., 2., 2., 2., 2.,\n",
       "        2., 2., 2., 2., 2., 2., 2., 2., 2., 2., 2., 2., 2., 2., 2., 2., 2., 2.,\n",
       "        2., 2., 2., 2., 2., 2., 2., 2., 2., 2.])"
      ]
     },
     "execution_count": 52,
     "metadata": {},
     "output_type": "execute_result"
    }
   ],
   "source": [
    "torch.sum(torch.ones((100,2)), dim=1)"
   ]
  },
  {
   "cell_type": "code",
   "execution_count": null,
   "id": "44fd036f-ae07-4ab7-bf85-2cb51eb73672",
   "metadata": {},
   "outputs": [],
   "source": []
  }
 ],
 "metadata": {
  "kernelspec": {
   "display_name": "Python 3 (ipykernel)",
   "language": "python",
   "name": "python3"
  },
  "language_info": {
   "codemirror_mode": {
    "name": "ipython",
    "version": 3
   },
   "file_extension": ".py",
   "mimetype": "text/x-python",
   "name": "python",
   "nbconvert_exporter": "python",
   "pygments_lexer": "ipython3",
   "version": "3.8.6"
  }
 },
 "nbformat": 4,
 "nbformat_minor": 5
}
