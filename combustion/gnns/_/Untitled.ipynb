{
 "cells": [
  {
   "cell_type": "code",
   "execution_count": 3,
   "id": "b85b6b96-9aaa-4e05-af8f-663c6bee9f86",
   "metadata": {},
   "outputs": [],
   "source": [
    "l = list([1, 2, 3])"
   ]
  },
  {
   "cell_type": "code",
   "execution_count": 4,
   "id": "c9b7e666-42c2-4f58-9bf9-ea8a6f6fac93",
   "metadata": {},
   "outputs": [],
   "source": [
    "l.reverse()"
   ]
  },
  {
   "cell_type": "code",
   "execution_count": 5,
   "id": "52c924f1-7ecd-4762-92d1-ab8b80a12581",
   "metadata": {},
   "outputs": [
    {
     "data": {
      "text/plain": [
       "[3, 2, 1]"
      ]
     },
     "execution_count": 5,
     "metadata": {},
     "output_type": "execute_result"
    }
   ],
   "source": [
    "l"
   ]
  },
  {
   "cell_type": "code",
   "execution_count": null,
   "id": "4c977dc5-5904-4157-ba64-4257fdfc4bd8",
   "metadata": {},
   "outputs": [],
   "source": [
    "coudou\n"
   ]
  },
  {
   "cell_type": "code",
   "execution_count": 1,
   "id": "e0140f91-fc4a-40b7-a922-26a3f466cb72",
   "metadata": {},
   "outputs": [
    {
     "data": {
      "text/plain": [
       "(-1, 2, 3)"
      ]
     },
     "execution_count": 1,
     "metadata": {},
     "output_type": "execute_result"
    }
   ],
   "source": [
    "(-1,) + (2, 3)"
   ]
  },
  {
   "cell_type": "code",
   "execution_count": null,
   "id": "a69c02aa-59ec-46c1-ae9c-0dd5a573c0f9",
   "metadata": {},
   "outputs": [],
   "source": []
  }
 ],
 "metadata": {
  "kernelspec": {
   "display_name": "Python 3 (ipykernel)",
   "language": "python",
   "name": "python3"
  },
  "language_info": {
   "codemirror_mode": {
    "name": "ipython",
    "version": 3
   },
   "file_extension": ".py",
   "mimetype": "text/x-python",
   "name": "python",
   "nbconvert_exporter": "python",
   "pygments_lexer": "ipython3",
   "version": "3.8.6"
  }
 },
 "nbformat": 4,
 "nbformat_minor": 5
}
