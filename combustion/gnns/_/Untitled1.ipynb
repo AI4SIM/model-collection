{
 "cells": [
  {
   "cell_type": "code",
   "execution_count": 3,
   "id": "65cfb64a-a96a-4a7b-a754-e0b5eaaaec6e",
   "metadata": {},
   "outputs": [],
   "source": [
    "import torch\n",
    "T = getattr(torch, \"Tensor\")"
   ]
  },
  {
   "cell_type": "code",
   "execution_count": 5,
   "id": "10c07ec2-caf3-4bcf-adb0-80d2feb19a68",
   "metadata": {},
   "outputs": [],
   "source": [
    "t = T()"
   ]
  },
  {
   "cell_type": "code",
   "execution_count": 7,
   "id": "9cd2f83f-5df0-4871-afe9-a217a90ffa79",
   "metadata": {},
   "outputs": [
    {
     "data": {
      "text/plain": [
       "True"
      ]
     },
     "execution_count": 7,
     "metadata": {},
     "output_type": "execute_result"
    }
   ],
   "source": [
    "isinstance(t, T)"
   ]
  },
  {
   "cell_type": "code",
   "execution_count": null,
   "id": "12df8f06-8b52-4d0c-bc92-8f661df9d57e",
   "metadata": {},
   "outputs": [],
   "source": []
  }
 ],
 "metadata": {
  "kernelspec": {
   "display_name": "Python 3 (ipykernel)",
   "language": "python",
   "name": "python3"
  },
  "language_info": {
   "codemirror_mode": {
    "name": "ipython",
    "version": 3
   },
   "file_extension": ".py",
   "mimetype": "text/x-python",
   "name": "python",
   "nbconvert_exporter": "python",
   "pygments_lexer": "ipython3",
   "version": "3.8.6"
  }
 },
 "nbformat": 4,
 "nbformat_minor": 5
}
